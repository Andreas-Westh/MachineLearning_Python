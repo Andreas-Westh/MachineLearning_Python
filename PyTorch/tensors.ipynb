{
 "cells": [
  {
   "cell_type": "code",
   "execution_count": 2,
   "id": "11c7abbf",
   "metadata": {},
   "outputs": [],
   "source": [
    "\n",
    "import torch\n",
    "import numpy as np"
   ]
  },
  {
   "cell_type": "markdown",
   "id": "45f6796f",
   "metadata": {},
   "source": []
  },
  {
   "cell_type": "markdown",
   "id": "f950cb29",
   "metadata": {},
   "source": [
    "LISTS"
   ]
  },
  {
   "cell_type": "code",
   "execution_count": 3,
   "id": "8d5b4d19",
   "metadata": {},
   "outputs": [
    {
     "data": {
      "text/plain": [
       "[[1, 2, 3, 4, 5], [6, 7, 8, 9, 10]]"
      ]
     },
     "execution_count": 3,
     "metadata": {},
     "output_type": "execute_result"
    }
   ],
   "source": [
    "my_list = [[1, 2, 3, 4, 5], [6, 7, 8, 9, 10]]\n",
    "my_list\n"
   ]
  },
  {
   "cell_type": "markdown",
   "id": "5bc4327a",
   "metadata": {},
   "source": [
    "Numpy Arrays"
   ]
  },
  {
   "cell_type": "code",
   "execution_count": 4,
   "id": "73b0810d",
   "metadata": {},
   "outputs": [
    {
     "data": {
      "text/plain": [
       "array([[ 0.2840852 , -0.51502949, -0.14724319,  0.12328261],\n",
       "       [ 0.19270011, -0.75540951, -0.1223334 , -1.45924848],\n",
       "       [ 0.72298271, -1.3547476 , -1.68664031, -0.14930161]])"
      ]
     },
     "execution_count": 4,
     "metadata": {},
     "output_type": "execute_result"
    }
   ],
   "source": [
    "np1 = np.random.randn(3, 4)\n",
    "np1"
   ]
  },
  {
   "cell_type": "code",
   "execution_count": null,
   "id": "23640938",
   "metadata": {},
   "outputs": [
    {
     "data": {
      "text/plain": [
       "dtype('float64')"
      ]
     },
     "execution_count": 5,
     "metadata": {},
     "output_type": "execute_result"
    }
   ],
   "source": [
    "np1.dtype # see data type"
   ]
  },
  {
   "cell_type": "markdown",
   "id": "9b828b5a",
   "metadata": {},
   "source": [
    "Tenstors"
   ]
  },
  {
   "cell_type": "code",
   "execution_count": null,
   "id": "defc054b",
   "metadata": {},
   "outputs": [
    {
     "data": {
      "text/plain": [
       "tensor([[-0.9960, -1.2781,  0.3702, -1.0307],\n",
       "        [ 0.2995, -0.4391,  1.2423, -0.8822],\n",
       "        [-1.3782,  0.0486, -0.5227, -0.6762]])"
      ]
     },
     "execution_count": 7,
     "metadata": {},
     "output_type": "execute_result"
    }
   ],
   "source": [
    "tensor_2d = torch.randn(3, 4)\n",
    "tensor_2d # you can even see that it is called a tensor, so it is its own like, like an array or list"
   ]
  },
  {
   "cell_type": "code",
   "execution_count": 9,
   "id": "9c040581",
   "metadata": {},
   "outputs": [
    {
     "data": {
      "text/plain": [
       "tensor([[[ 1.5471, -0.4845,  1.7639, -0.1635],\n",
       "         [-0.5254, -1.1331, -0.1057, -0.9952],\n",
       "         [-0.6980, -1.7338,  0.0850,  1.4159]],\n",
       "\n",
       "        [[-0.2354,  0.1199,  0.0152, -0.2794],\n",
       "         [-0.0227,  0.7317,  0.8421,  1.8241],\n",
       "         [ 0.5194,  1.8061, -0.0988, -1.5309]]])"
      ]
     },
     "execution_count": 9,
     "metadata": {},
     "output_type": "execute_result"
    }
   ],
   "source": [
    "tensor_3d = torch.randn(2, 3, 4)\n",
    "tensor_3d"
   ]
  },
  {
   "cell_type": "code",
   "execution_count": 10,
   "id": "6a7c1fca",
   "metadata": {},
   "outputs": [
    {
     "data": {
      "text/plain": [
       "tensor([[ 0.2841, -0.5150, -0.1472,  0.1233],\n",
       "        [ 0.1927, -0.7554, -0.1223, -1.4592],\n",
       "        [ 0.7230, -1.3547, -1.6866, -0.1493]], dtype=torch.float64)"
      ]
     },
     "execution_count": 10,
     "metadata": {},
     "output_type": "execute_result"
    }
   ],
   "source": [
    "## Create tensors from numpy arrays\n",
    "my_tensor = torch.from_numpy(np1)\n",
    "my_tensor"
   ]
  },
  {
   "cell_type": "code",
   "execution_count": null,
   "id": "a376cc07",
   "metadata": {},
   "outputs": [],
   "source": []
  }
 ],
 "metadata": {
  "kernelspec": {
   "display_name": "venv",
   "language": "python",
   "name": "python3"
  },
  "language_info": {
   "codemirror_mode": {
    "name": "ipython",
    "version": 3
   },
   "file_extension": ".py",
   "mimetype": "text/x-python",
   "name": "python",
   "nbconvert_exporter": "python",
   "pygments_lexer": "ipython3",
   "version": "3.13.1"
  }
 },
 "nbformat": 4,
 "nbformat_minor": 5
}
