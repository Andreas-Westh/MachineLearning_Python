{
 "cells": [
  {
   "cell_type": "code",
   "execution_count": 3,
   "metadata": {},
   "outputs": [],
   "source": [
    "import numpy as np\n",
    "import pandas as pd\n",
    "from functions import generate_data, get_weighted_sum, sigmoid, cross_entropy, update_weights, update_bias   # script for storing the functions"
   ]
  },
  {
   "cell_type": "code",
   "execution_count": 10,
   "metadata": {},
   "outputs": [
    {
     "name": "stdout",
     "output_type": "stream",
     "text": [
      "**********************\n",
      "epoch:  0\n",
      "0.4447850418515722\n",
      "**********************\n",
      "epoch:  1\n",
      "0.43941793551004\n",
      "**********************\n",
      "epoch:  2\n",
      "0.43419791547311076\n",
      "**********************\n",
      "epoch:  697\n",
      "0.2934789836421331\n",
      "**********************\n",
      "epoch:  698\n",
      "0.2934784685554426\n",
      "**********************\n",
      "epoch:  699\n",
      "0.2934779545658379\n"
     ]
    }
   ],
   "source": [
    "\n",
    "bias = 0.5\n",
    "l_rate = 0.001 # try and change these to see the difference\n",
    "epochs = 700 # try and change these to see the difference\n",
    "epoch_loss = []\n",
    "\n",
    "data, weights = generate_data(50,3)\n",
    "\n",
    "def train_model(data, weights, bias, l_rate, epochs):\n",
    "    for e in range(epochs):\n",
    "        individual_loss = []\n",
    "        for i in range(len(data)):\n",
    "            feature = data.loc[i][:-1] # get 1 row at a time. [:-1] means every column EXCEPT the last\n",
    "            target = data.iloc[i,-1]\n",
    "            w_sum = get_weighted_sum(feature, weights, bias)\n",
    "            prediction = sigmoid(w_sum)\n",
    "            loss = cross_entropy(target, prediction)\n",
    "            individual_loss.append(loss)\n",
    "            #gradient descent\n",
    "            weights = update_weights(weights, l_rate, target, prediction, feature)\n",
    "            bias = update_bias(bias, l_rate, target, prediction)\n",
    "        average_loss = sum(individual_loss)/len(individual_loss)\n",
    "        epoch_loss.append(average_loss)\n",
    "        \n",
    "        #print only first and last 3\n",
    "        if e < 3 or e>= epochs - 3:\n",
    "            print(\"**********************\")\n",
    "            print(\"epoch: \", e)\n",
    "            print(average_loss)\n",
    "        \n",
    "train_model(data, weights, bias, l_rate, epochs)\n"
   ]
  },
  {
   "cell_type": "code",
   "execution_count": 11,
   "metadata": {},
   "outputs": [
    {
     "data": {
      "text/plain": [
       "<Axes: >"
      ]
     },
     "execution_count": 11,
     "metadata": {},
     "output_type": "execute_result"
    },
    {
     "data": {
      "image/png": "[encoded data removed]",
      "text/plain": [
       "<Figure size 640x480 with 1 Axes>"
      ]
     },
     "metadata": {},
     "output_type": "display_data"
    }
   ],
   "source": [
    "# plot the average loss\n",
    "df = pd.DataFrame(epoch_loss)\n",
    "df.plot(kind=\"line\", grid=True)"
   ]
  },
  {
   "cell_type": "code",
   "execution_count": null,
   "metadata": {},
   "outputs": [],
   "source": []
  }
 ],
 "metadata": {
  "kernelspec": {
   "display_name": "venv",
   "language": "python",
   "name": "python3"
  },
  "language_info": {
   "codemirror_mode": {
    "name": "ipython",
    "version": 3
   },
   "file_extension": ".py",
   "mimetype": "text/x-python",
   "name": "python",
   "nbconvert_exporter": "python",
   "pygments_lexer": "ipython3",
   "version": "3.13.1"
  }
 },
 "nbformat": 4,
 "nbformat_minor": 2
}
